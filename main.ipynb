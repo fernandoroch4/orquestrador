{
 "cells": [
  {
   "cell_type": "code",
   "execution_count": 1,
   "id": "93fe17eb",
   "metadata": {},
   "outputs": [],
   "source": [
    "from pyspark.sql import SparkSession"
   ]
  },
  {
   "cell_type": "code",
   "execution_count": null,
   "id": "e2d5bbe6",
   "metadata": {},
   "outputs": [
    {
     "name": "stderr",
     "output_type": "stream",
     "text": [
      "[Stage 2:======================>                                    (3 + 5) / 8]\r"
     ]
    },
    {
     "name": "stdout",
     "output_type": "stream",
     "text": [
      "root\n",
      " |-- DataReferencia: date (nullable = true)\n",
      " |-- CodigoInstrumento: string (nullable = true)\n",
      " |-- AcaoAtualizacao: integer (nullable = true)\n",
      " |-- PrecoNegocio: string (nullable = true)\n",
      " |-- QuantidadeNegociada: integer (nullable = true)\n",
      " |-- HoraFechamento: integer (nullable = true)\n",
      " |-- CodigoIdentificadorNegocio: integer (nullable = true)\n",
      " |-- TipoSessaoPregao: integer (nullable = true)\n",
      " |-- DataNegocio: date (nullable = true)\n",
      " |-- CodigoParticipanteComprador: integer (nullable = true)\n",
      " |-- CodigoParticipanteVendedor: integer (nullable = true)\n",
      "\n",
      "+--------------+-----------------+---------------+------------+-------------------+--------------+--------------------------+----------------+-----------+---------------------------+--------------------------+\n",
      "|DataReferencia|CodigoInstrumento|AcaoAtualizacao|PrecoNegocio|QuantidadeNegociada|HoraFechamento|CodigoIdentificadorNegocio|TipoSessaoPregao|DataNegocio|CodigoParticipanteComprador|CodigoParticipanteVendedor|\n",
      "+--------------+-----------------+---------------+------------+-------------------+--------------+--------------------------+----------------+-----------+---------------------------+--------------------------+\n",
      "|    2025-07-28|           TF583R|              0|      10,000|              10000|      31750090|                        10|               1| 2025-07-28|                        100|                       100|\n",
      "|    2025-07-28|           WSPU25|              0|    6436,000|                  1|      90000446|                        10|               1| 2025-07-28|                        120|                         3|\n",
      "|    2025-07-28|    BGIV25C032000|              0|      15,000|                 12|      90001204|                        10|               1| 2025-07-28|                       NULL|                      NULL|\n",
      "|    2025-07-28|    BGIV25C034500|              0|       7,000|                 12|      90001211|                        10|               1| 2025-07-28|                       NULL|                      NULL|\n",
      "|    2025-07-28|           WSPU25|              0|    6436,000|                  1|      90001315|                        20|               1| 2025-07-28|                        120|                         3|\n",
      "+--------------+-----------------+---------------+------------+-------------------+--------------+--------------------------+----------------+-----------+---------------------------+--------------------------+\n",
      "only showing top 5 rows\n"
     ]
    },
    {
     "name": "stderr",
     "output_type": "stream",
     "text": [
      "                                                                                \r"
     ]
    }
   ],
   "source": [
    "spark = SparkSession.builder \\\n",
    "    .appName(\"Spark SQL Example\") \\\n",
    "    .config(\"spark.sql.shuffle.partitions\", \"2\") \\\n",
    "    .getOrCreate()\n",
    "\n",
    "spark.sparkContext.setLogLevel(\"ERROR\")\n",
    "df = spark.read.csv(\"28-07-2025_NEGOCIOSAVISTA.txt\", sep=\";\" ,header=True, inferSchema=True)\n",
    "df.printSchema()\n",
    "df.show(5)"
   ]
  }
 ],
 "metadata": {
  "kernelspec": {
   "display_name": ".venv",
   "language": "python",
   "name": "python3"
  },
  "language_info": {
   "codemirror_mode": {
    "name": "ipython",
    "version": 3
   },
   "file_extension": ".py",
   "mimetype": "text/x-python",
   "name": "python",
   "nbconvert_exporter": "python",
   "pygments_lexer": "ipython3",
   "version": "3.13.2"
  }
 },
 "nbformat": 4,
 "nbformat_minor": 5
}
